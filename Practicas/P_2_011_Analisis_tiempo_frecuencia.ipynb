{
 "cells": [
  {
   "cell_type": "markdown",
   "id": "c3c00dbc",
   "metadata": {},
   "source": [
    "### Práctica: Análisis de Sistemas en el Dominio del Tiempo vs. Dominio 's'.\n",
    "\n",
    "**Objetivo:** Analizar un sistema LTI simple en ambos dominios para verificar que la respuesta es la misma. Se comparará el resultado obtenido a través del concepto de convolución en el tiempo con el método de la función de transferencia en el dominio de Laplace (dominio 's').\n",
    "\n",
    "**Relaciones Fundamentales:**\n",
    "* **Dominio del Tiempo:** La salida $y(t)$ es la convolución de la entrada $r(t)$ con la respuesta al impulso $h(t)$.\n",
    "    $$ y(t) = r(t) * g(t) $$\n",
    "* **Dominio 's' (Laplace):** La transformada de la salida $Y(s)$ es el producto de la transformada de la entrada $R(s)$ y la función de transferencia $G(s)$.\n",
    "    $$ Y(s) = R(s) \\cdot G(s) $$"
   ]
  },
  {
   "cell_type": "markdown",
   "id": "06b85fa4",
   "metadata": {},
   "source": [
    "# Paso 1: Importar las bibliotecas necesarias.\n",
    "\n",
    "# NumPy: Para operaciones numéricas y manejo de arreglos.\n",
    "# Matplotlib: Para la visualización y graficación de resultados.\n",
    "# Python Control Library: Para la creación de sistemas de control y su simulación.\n",
    "import numpy as np\n",
    "import matplotlib.pyplot as plt\n",
    "import control as ct\n",
    "\n",
    "# Configuración para que las gráficas se vean mejor en el notebook.\n",
    "plt.style.use('seaborn-v0_8-whitegrid')\n"
   ]
  }
 ],
 "metadata": {
  "language_info": {
   "name": "python"
  }
 },
 "nbformat": 4,
 "nbformat_minor": 5
}
