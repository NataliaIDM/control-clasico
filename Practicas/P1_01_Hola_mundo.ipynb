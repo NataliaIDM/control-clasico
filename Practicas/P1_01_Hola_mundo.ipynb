{
 "cells": [
  {
   "cell_type": "markdown",
   "id": "03105d4a",
   "metadata": {},
   "source": [
    "#   Practica 1-02: Hola mundo\n",
    "Este es mi primer notebook en VS Code para la amteria de Control Clásico."
   ]
  },
  {
   "cell_type": "code",
   "execution_count": 1,
   "id": "678deb7d",
   "metadata": {},
   "outputs": [
    {
     "name": "stdout",
     "output_type": "stream",
     "text": [
      "Hola   mundo\n"
     ]
    }
   ],
   "source": [
    "print(\"Hola   mundo\")"
   ]
  }
 ],
 "metadata": {
  "kernelspec": {
   "display_name": ".venv (3.13.7)",
   "language": "python",
   "name": "python3"
  },
  "language_info": {
   "codemirror_mode": {
    "name": "ipython",
    "version": 3
   },
   "file_extension": ".py",
   "mimetype": "text/x-python",
   "name": "python",
   "nbconvert_exporter": "python",
   "pygments_lexer": "ipython3",
   "version": "3.13.7"
  }
 },
 "nbformat": 4,
 "nbformat_minor": 5
}
